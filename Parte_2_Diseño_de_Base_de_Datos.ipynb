{
 "cells": [
  {
   "cell_type": "markdown",
   "id": "18e56ae0-3cce-4ecc-83c1-2f82f775cb2a",
   "metadata": {},
   "source": [
    "# Práctica Grupal: Diseño de Base de Datos"
   ]
  },
  {
   "cell_type": "markdown",
   "id": "2f97de3e-e5a7-483b-8eb6-e92e2d343ffd",
   "metadata": {},
   "source": [
    "La imagen muestra el diseño de un modelo de base de datos relacional que contiene cuatro tablas principales: proveedores, piezas, suministro y categoría. A continuación, se explican los elementos clave de este modelo:"
   ]
  },
  {
   "cell_type": "markdown",
   "id": "a47ae13e-d7af-475f-a08b-f0d5df95e9c3",
   "metadata": {},
   "source": [
    "![Base de datos](imagen_1.jpg)"
   ]
  },
  {
   "cell_type": "markdown",
   "id": "de90cb2a-6709-4ac5-b70d-c36d27902670",
   "metadata": {},
   "source": [
    "1. Tabla: Proveedores\n",
    "Claves y relaciones:\n",
    "codigoproveedor es la Primary Key de esta tabla, lo que significa que identifica de manera única a cada proveedor.\n",
    "Es también Foreign Key en la tabla suministro, estableciendo una relación entre ambas tablas.\n",
    "\n",
    "2. Tabla: Piezas\n",
    "Claves y relaciones:\n",
    "codigopieza es la Primary Key de esta tabla y también actúa como Foreign Key en la tabla suministro.\n",
    "codigocategoria es una Foreign Key que establece la relación con la tabla categoría.\n",
    "\n",
    "3. Tabla: Categoría\n",
    "Claves y relaciones:\n",
    "codigocategoria es la Primary Key de esta tabla, utilizada como Foreign Key en la tabla piezas.\n",
    "Atributos:\n",
    "nombre: Nombre de la categoría de piezas.\n",
    "\n",
    "4. Tabla: Suministro\n",
    "Claves y relaciones:\n",
    "codigosuministro es la Primary Key de esta tabla.\n",
    "Contiene las siguientes Foreign Keys:\n",
    "codigoproveedor: Relacionada con la tabla proveedores.\n",
    "codigopieza: Relacionada con la tabla piezas."
   ]
  },
  {
   "cell_type": "markdown",
   "id": "a8c52bf9-9b0e-48b6-adba-14f5216510cc",
   "metadata": {},
   "source": [
    "![Relaciones](imagen_2.jpg)\n"
   ]
  },
  {
   "cell_type": "markdown",
   "id": "5f4f1e44-3418-4d2f-a4da-7e994926e403",
   "metadata": {},
   "source": [
    "Relaciones clave:\n",
    "La tabla suministro actúa como tabla intermedia (o de unión) entre proveedores y piezas, permitiendo registrar información sobre el suministro de piezas específicas por parte de ciertos proveedores.\n",
    "La tabla piezas está vinculada con categoría, clasificando cada pieza dentro de una categoría específica."
   ]
  },
  {
   "cell_type": "markdown",
   "id": "ed20cfe9-6e00-41ee-87cf-cdacbef18e00",
   "metadata": {},
   "source": [
    "# Código de Base de Datos"
   ]
  },
  {
   "cell_type": "markdown",
   "id": "e47ca524-8b83-444f-bc5e-fab31b598b37",
   "metadata": {},
   "source": [
    "Este código demuestra cómo crear y gestionar una base de datos SQLite para un almacén, incluyendo la creación de tablas, la definición de relaciones entre ellas y la inserción de datos de ejemplo."
   ]
  },
  {
   "cell_type": "code",
   "execution_count": null,
   "id": "fc044357-b934-4b53-a1e9-32eb35ef5969",
   "metadata": {
    "jupyter": {
     "source_hidden": true
    }
   },
   "outputs": [],
   "source": [
    "#import pandas as pd\n",
    "import sqlite3\n",
    "\n",
    "# Conectamos con la base de datos chinook.db\n",
    "connection = sqlite3.connect(\"almacen.db\")\n",
    "\n",
    "# Obtenemos un cursor que utilizaremos para hacer las queries\n",
    "cursor= connection.cursor()\n",
    "\n",
    "# Creación de Tablas\n",
    "\n",
    "query_tabla_proveedores = \"\"\"\n",
    "CREATE TABLE Proveedores (\n",
    "    CodigoProveedor INTEGER PRIMARY KEY,\n",
    "    Nombre TEXT NOT NULL,\n",
    "    Direccion TEXT,\n",
    "    Ciudad TEXT,\n",
    "    Provincia TEXT\n",
    ");\n",
    "\"\"\"\n",
    "cursor.execute(query_tabla_proveedores)\n",
    "\n",
    "query_tabla_categoria = \"\"\"\n",
    "CREATE TABLE Categoria (\n",
    "    CodigoCategoria INT PRIMARY KEY,\n",
    "    Nombre TEXT NOT NULL\n",
    ");\n",
    "\"\"\"\n",
    "cursor.execute(query_tabla_categoria)\n",
    "\n",
    "\n",
    "query_tabla_pieza=\"\"\"\n",
    "CREATE TABLE Piezas (\n",
    "    CodigoPieza INT PRIMARY KEY,\n",
    "    Nombre TEXT NOT NULL,\n",
    "    Color TEXT,\n",
    "    Precio FLOAT NOT NULL,\n",
    "    CodigoCategoria INT,\n",
    "    FOREIGN KEY (CodigoCategoria) REFERENCES Categoria(CodigoCategoria)\n",
    "        ON DELETE SET NULL\n",
    "        ON UPDATE CASCADE\n",
    ");\n",
    "\"\"\"\n",
    "\n",
    "cursor.execute(query_tabla_pieza)\n",
    "\n",
    "query_tabla_suministro=\"\"\"\n",
    "CREATE TABLE Suministro (\n",
    "    CodigoSuministro INT PRIMARY KEY,\n",
    "    CodigoProveedor INT NOT NULL,\n",
    "    CodigoPieza INT NOT NULL,\n",
    "    Cantidad INT NOT NULL,\n",
    "    Fecha DATE NOT NULL,\n",
    "    FOREIGN KEY (CodigoProveedor) REFERENCES Proveedores(CodigoProveedor)\n",
    "        ON DELETE CASCADE\n",
    "        ON UPDATE CASCADE,\n",
    "    FOREIGN KEY (CodigoPieza) REFERENCES Piezas(CodigoPieza)\n",
    "        ON DELETE CASCADE\n",
    "        ON UPDATE CASCADE\n",
    ");\n",
    "\"\"\"\n",
    "cursor.execute(query_tabla_suministro)\n",
    "\n",
    "# Relleno de ejemplos para las tablas\n",
    "datos_categoria = [\n",
    "    (1, 'Resistencias'),\n",
    "    (2, 'Capacitores'),\n",
    "    (3, 'Semiconductores'),\n",
    "    (4, 'Conectores')\n",
    "]\n",
    "\n",
    "datos_proveedores = [\n",
    "    (1, 'ElectroTech S.L.', 'Av. Innovación 123', 'Madrid', 'Madrid'),\n",
    "    (2, 'Componentes Globales', 'Calle Tecnología 456', 'Barcelona', 'Cataluña'),\n",
    "    (3, 'Distribuidora del Norte', 'Av. Central 789', 'Bilbao', 'País Vasco'),\n",
    "    (4, 'Electronix S.A.', 'Calle Comercio 101', 'Sevilla', 'Andalucía'),\n",
    "    (5, 'Conexiones Avanzadas', 'Av. Industria 202', 'Valencia', 'Comunidad Valenciana')\n",
    "]\n",
    "\n",
    "datos_piezas = [\n",
    "    (1, 'Resistencia 10kΩ', 'Marrón', 0.05, 1),\n",
    "    (2, 'Capacitor 100uF', 'Azul', 0.10, 2),\n",
    "    (3, 'Transistor NPN', 'Negro', 0.50, 3),\n",
    "    (4, 'Diodo LED', 'Rojo', 0.15, 3),\n",
    "    (5, 'Conector USB Tipo-C', 'Plateado', 1.00, 4)\n",
    "]\n",
    "\n",
    "datos_suministro = [\n",
    "    (1, 1, 1, 1000, '2024-01-01'),\n",
    "    (2, 1, 2, 500, '2024-01-02'),\n",
    "    (3, 2, 3, 200, '2024-01-03'),\n",
    "    (4, 3, 4, 750, '2024-01-04'),\n",
    "    (5, 4, 5, 300, '2024-01-05')\n",
    "]\n",
    "\n",
    "# Inserción de datos\n",
    "cursor.executemany(\"INSERT INTO Categoria (CodigoCategoria, Nombre) VALUES (?, ?)\", datos_categoria)\n",
    "cursor.executemany(\"INSERT INTO Proveedores (CodigoProveedor, Nombre, Direccion, Ciudad, Provincia) VALUES (?, ?, ?, ?, ?)\", datos_proveedores)\n",
    "cursor.executemany(\"INSERT INTO Piezas (CodigoPieza, Nombre, Color, Precio, CodigoCategoria) VALUES (?, ?, ?, ?, ?)\", datos_piezas)\n",
    "cursor.executemany(\"INSERT INTO Suministro (CodigoSuministro, CodigoProveedor, CodigoPieza, Cantidad, Fecha) VALUES (?, ?, ?, ?, ?)\", datos_suministro)\n",
    "\n",
    "# Confirmar cambios y cerrar conexión\n",
    "connection.commit()\n",
    "connection.close()"
   ]
  },
  {
   "cell_type": "markdown",
   "id": "65278b3f-09c3-4d53-b4a2-4a6a2df719ee",
   "metadata": {},
   "source": [
    "# Código de Consulta"
   ]
  },
  {
   "cell_type": "markdown",
   "id": "5d5e7b0a-fafd-49c6-90d3-101a19fad75c",
   "metadata": {},
   "source": [
    "Este código utiliza SQLite y Pandas para consultar una base de datos y convertir los resultados en un DataFrame de Pandas. Esto facilita trabajar con los datos en formato tabular para análisis y manipulación."
   ]
  },
  {
   "cell_type": "code",
   "execution_count": 10,
   "id": "61099cc5-96f2-4a28-95d4-18ab24e93415",
   "metadata": {},
   "outputs": [
    {
     "name": "stdout",
     "output_type": "stream",
     "text": [
      "   CodigoPieza               Nombre     Color  Precio  CodigoCategoria\n",
      "0            1     Resistencia 10kΩ    Marrón    0.05                1\n",
      "1            2      Capacitor 100uF      Azul    0.10                2\n",
      "2            3       Transistor NPN     Negro    0.50                3\n",
      "3            4            Diodo LED      Rojo    0.15                3\n",
      "4            5  Conector USB Tipo-C  Plateado    1.00                4\n"
     ]
    }
   ],
   "source": [
    "import sqlite3\n",
    "import pandas as pd\n",
    "\n",
    "# Conectamos con la base de datos almacen.db\n",
    "connection = sqlite3.connect(\"almacen.db\")\n",
    "\n",
    "# Obtenemos un cursor que utilizaremos para hacer las queries\n",
    "cursor = connection.cursor()\n",
    "\n",
    "def sql_query(query):\n",
    "    # Ejecuta la query\n",
    "    cursor.execute(query) \n",
    "\n",
    "    # Almacena los datos de la query \n",
    "    ans = cursor.fetchall()\n",
    "\n",
    "    # Obtenemos los nombres de las columnas de la tabla\n",
    "    names = [description[0] for description in cursor.description]\n",
    "\n",
    "    return pd.DataFrame(ans, columns=names)\n",
    "\n",
    "# Definimos la consulta\n",
    "query = \"SELECT * FROM Piezas\"\n",
    "\n",
    "# Ejecutamos y almacenamos los resultados en un DataFrame\n",
    "df = sql_query(query)\n",
    "print(df)\n"
   ]
  },
  {
   "cell_type": "code",
   "execution_count": 7,
   "id": "fe38fb0f-9015-4a4a-9db8-f2febeb6d596",
   "metadata": {},
   "outputs": [],
   "source": [
    "connection.close()"
   ]
  },
  {
   "cell_type": "code",
   "execution_count": 19,
   "id": "1be6e747-4c66-48f3-99dd-44c9d15a67f7",
   "metadata": {},
   "outputs": [
    {
     "name": "stdin",
     "output_type": "stream",
     "text": [
      "¿Qué tabla deseas consultar?  Piezas\n"
     ]
    },
    {
     "name": "stdout",
     "output_type": "stream",
     "text": [
      "Resultados de la tabla 'Piezas':\n",
      "   CodigoPieza               Nombre     Color  Precio  CodigoCategoria\n",
      "0            1     Resistencia 10kΩ    Marrón    0.05                1\n",
      "1            2      Capacitor 100uF      Azul    0.10                2\n",
      "2            3       Transistor NPN     Negro    0.50                3\n",
      "3            4            Diodo LED      Rojo    0.15                3\n",
      "4            5  Conector USB Tipo-C  Plateado    1.00                4\n"
     ]
    }
   ],
   "source": [
    "import sqlite3\n",
    "import pandas as pd\n",
    "\n",
    "# Conexión a la base de datos almacen.db\n",
    "connection = sqlite3.connect(\"almacen.db\")\n",
    "cursor = connection.cursor()\n",
    "\n",
    "# Función para ejecutar consultas y devolver un DataFrame\n",
    "def sql_query(query):\n",
    "    cursor.execute(query)  # Ejecuta la consulta\n",
    "    ans = cursor.fetchall()  # Recupera los datos de la consulta\n",
    "    names = [description[0] for description in cursor.description]  # Obtiene los nombres de las columnas\n",
    "    return pd.DataFrame(ans, columns=names)\n",
    "\n",
    "# Solicitar al usuario el nombre de la tabla\n",
    "tabla = input(\"¿Qué tabla deseas consultar? \")\n",
    "\n",
    "# Crear la consulta SQL dinámicamente\n",
    "query = f\"SELECT * FROM {tabla}\"\n",
    "\n",
    "# Ejecutar la consulta y mostrar los resultados\n",
    "try:\n",
    "    df = sql_query(query)\n",
    "    print(f\"Resultados de la tabla '{tabla}':\")\n",
    "    print(df)\n",
    "except Exception as e:\n",
    "    print(f\"Error al realizar la consulta: {e}\")\n",
    "\n",
    "# Cerrar la conexión a la base de datos\n",
    "connection.close()\n"
   ]
  },
  {
   "cell_type": "code",
   "execution_count": null,
   "id": "b558d767-fab8-41af-9dad-9eb62a1f6e02",
   "metadata": {},
   "outputs": [],
   "source": []
  }
 ],
 "metadata": {
  "kernelspec": {
   "display_name": "Python 3 (ipykernel)",
   "language": "python",
   "name": "python3"
  },
  "language_info": {
   "codemirror_mode": {
    "name": "ipython",
    "version": 3
   },
   "file_extension": ".py",
   "mimetype": "text/x-python",
   "name": "python",
   "nbconvert_exporter": "python",
   "pygments_lexer": "ipython3",
   "version": "3.13.0"
  }
 },
 "nbformat": 4,
 "nbformat_minor": 5
}
